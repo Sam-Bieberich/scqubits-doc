{
 "cells": [
  {
   "cell_type": "code",
   "execution_count": 1,
   "metadata": {
    "ExecuteTime": {
     "end_time": "2016-09-05T09:09:54.232690",
     "start_time": "2016-09-05T09:09:53.862693"
    },
    "init_cell": true,
    "nbsphinx": "hidden",
    "pycharm": {
     "is_executing": false,
     "name": "#%%\n"
    },
    "scrolled": true
   },
   "outputs": [],
   "source": [
    "%matplotlib inline\n",
    "%config InlineBackend.figure_format = 'svg'\n",
    "\n",
    "import numpy as np\n",
    "import qutip as qt\n",
    "import scqubits as scq"
   ]
  },
  {
   "cell_type": "markdown",
   "metadata": {
    "pycharm": {
     "name": "#%% md\n"
    }
   },
   "source": [
    "# Composite Hilbert Spaces & QuTiP\n",
    "\n",
    "The `HilbertSpace` class provides data structures and methods for handling composite Hilbert spaces which may consist of multiple qubits and/or oscillators coupled to each other. To harness the power of QuTiP (a toolbox for simulating stationary and dynamical properties of closed and open quantum systems), `HilbertSpace` provides a convenient interface: it generates `qutip.qobj` objects which can then be handed over directly to QuTiP.\n",
    "\n",
    "In the following, the basic functionality of the `HilbertSpace` class is illustrated for the example of two transmons coupled to a harmonic mode.\n",
    "\n",
    "Transmon qubits can be capacitively coupled to a common harmonic mode, realized by an LC oscillator or a transmission-line resonator. The Hamiltonian describing such a composite system is given by:\n",
    "\\begin{equation}\n",
    "H=H_\\text{tmon,1} + H_\\text{tmon,2} + \\omega_r a^\\dagger a + \\sum_{j=1,2}g_j n_j(a+a^\\dagger),\n",
    "\\end{equation}\n",
    "where $j=1,2$ enumerates the two transmon qubits, $\\omega_r$ is the (angular) frequency of the resonator. Furthermore, $n_j$ is the charge number operator for qubit $j$, and $g_j$ is the coupling strength between qubit $j$ and the resonator.\n",
    "\n",
    "## Creating a HilbertSpace instance\n",
    "\n",
    "The first step consists of creating the objects describing the individual building blocks of the full Hilbert space. Here, these will be the two transmons and one oscillator:"
   ]
  },
  {
   "cell_type": "code",
   "execution_count": 2,
   "metadata": {
    "ExecuteTime": {
     "end_time": "2016-08-23T15:16:24.535943",
     "start_time": "2016-08-23T15:16:24.523929"
    },
    "pycharm": {
     "is_executing": false,
     "name": "#%%\n"
    }
   },
   "outputs": [],
   "source": [
    "tmon1 = scq.Transmon(\n",
    "    EJ=40.0,\n",
    "    EC=0.2,\n",
    "    ng=0.3,\n",
    "    ncut=40,\n",
    "    truncated_dim=4     # after diagonalization, we will keep levels 0, 1, 2, and 3\n",
    ")\n",
    "\n",
    "tmon2 = scq.Transmon(\n",
    "    EJ=15.0,\n",
    "    EC=0.15,\n",
    "    ng=0.0,\n",
    "    ncut=30,\n",
    "    truncated_dim=4\n",
    ")\n",
    "\n",
    "resonator = scq.Oscillator(\n",
    "    E_osc=4.5,\n",
    "    truncated_dim=4  # up to 3 photons (0,1,2,3)\n",
    ")"
   ]
  },
  {
   "cell_type": "markdown",
   "metadata": {
    "pycharm": {
     "name": "#%% md\n"
    }
   },
   "source": [
    "The `HilbertSpace` object is now created in one of two ways. The first is by utilizing the GUI:"
   ]
  },
  {
   "cell_type": "code",
   "execution_count": 3,
   "metadata": {
    "pycharm": {
     "name": "#%%\n"
    }
   },
   "outputs": [
    {
     "data": {
      "application/vnd.jupyter.widget-view+json": {
       "model_id": "ca0823e338714437833866ba9be6b2e4",
       "version_major": 2,
       "version_minor": 0
      },
      "text/plain": [
       "Container(children=[Card(children=[CardTitle(children=['Create Hilbert Space'], layout=None), Container(childr…"
      ]
     },
     "metadata": {},
     "output_type": "display_data"
    }
   ],
   "source": [
    "g = 0.1\n",
    "hilbertspace = scq.HilbertSpace.create()"
   ]
  },
  {
   "cell_type": "markdown",
   "metadata": {
    "pycharm": {
     "name": "#%% md\n"
    }
   },
   "source": [
    "![title](hilbertspace_gui.png)"
   ]
  },
  {
   "cell_type": "markdown",
   "metadata": {
    "pycharm": {
     "name": "#%% md\n"
    }
   },
   "source": [
    "The second way of creating a `HilbertSpace` object is through regular programmatic creation: provide a list of all subsystems and then specify individual interaction terms (see the next subsection for the latter):"
   ]
  },
  {
   "cell_type": "code",
   "execution_count": 4,
   "metadata": {
    "ExecuteTime": {
     "end_time": "2016-08-23T15:16:25.169276",
     "start_time": "2016-08-23T15:16:25.141240"
    },
    "pycharm": {
     "is_executing": false,
     "name": "#%%\n"
    }
   },
   "outputs": [
    {
     "name": "stdout",
     "output_type": "stream",
     "text": [
      "HilbertSpace:  subsystems\n",
      "-------------------------\n",
      "\n",
      "Transmon------------| [Transmon_1]\n",
      "                    | EJ: 40.0\n",
      "                    | EC: 0.2\n",
      "                    | ng: 0.3\n",
      "                    | ncut: 40\n",
      "                    | truncated_dim: 4\n",
      "                    |\n",
      "                    | dim: 81\n",
      "\n",
      "\n",
      "Transmon------------| [Transmon_2]\n",
      "                    | EJ: 15.0\n",
      "                    | EC: 0.15\n",
      "                    | ng: 0.0\n",
      "                    | ncut: 30\n",
      "                    | truncated_dim: 4\n",
      "                    |\n",
      "                    | dim: 61\n",
      "\n",
      "\n",
      "Oscillator----------| [Oscillator_1]\n",
      "                    | E_osc: 4.5\n",
      "                    | l_osc: None\n",
      "                    | truncated_dim: 4\n",
      "                    |\n",
      "                    | dim: 4\n",
      "\n",
      "\n"
     ]
    }
   ],
   "source": [
    "hilbertspace = scq.HilbertSpace([tmon1, tmon2, resonator])\n",
    "print(hilbertspace)"
   ]
  },
  {
   "cell_type": "markdown",
   "metadata": {
    "pycharm": {
     "name": "#%% md\n"
    }
   },
   "source": [
    "## Specifying interactions between subsystems\n",
    "   \n",
    "Interaction terms describing the coupling between subsystems can be specified in three different ways.\n",
    "\n",
    "### Option 1: operator-product based interface\n",
    "Interaction terms involving multiple subsystems $S=1,2,3,\\ldots$ are often of the form\n",
    "\n",
    "$V = g A_1 A_2 A_3 \\cdots \\qquad \\text{or} \\qquad \n",
    "V = g B_1 B_2 B_3 \\cdots + \\text{h.c.}$\n",
    "\n",
    "where the operators $A_j$, $B_j$ act on subsystem $j$. In the first case, the operators $A_j$ are expected to be hermitean. \n",
    "\n",
    "This structure is captured by using the `add_interaction` method in the following way:"
   ]
  },
  {
   "cell_type": "code",
   "execution_count": 5,
   "metadata": {
    "pycharm": {
     "is_executing": false,
     "name": "#%%\n"
    }
   },
   "outputs": [],
   "source": [
    "g1 = 0.1  # coupling resonator-tmon1 (without charge matrix elements)\n",
    "operator1 = tmon1.n_operator()\n",
    "operator2 = resonator.creation_operator() + resonator.annihilation_operator()\n",
    "\n",
    "hilbertspace.add_interaction(\n",
    "    g=g1,\n",
    "    op1=(operator1, tmon1),\n",
    "    op2=(operator2, resonator)\n",
    ")\n",
    "\n",
    "g2 = 0.2  # coupling resonator-CPB2 (without charge matrix elements)\n",
    "hilbertspace.add_interaction(\n",
    "    g=g2,\n",
    "    op1=tmon2.n_operator,\n",
    "    op2=resonator.creation_operator,\n",
    "    add_hc=True\n",
    ")"
   ]
  },
  {
   "cell_type": "markdown",
   "metadata": {
    "pycharm": {
     "name": "#%% md\n"
    }
   },
   "source": [
    "In this instance, `op1` and `op2` take either\n",
    "\n",
    "1. `(<array>, <subsystem>)`: a tuple with an array or sparse matrix in the first position and the subsystem in the second position, or\n",
    "2. `<callable>`: the operator as a callable function (which will automatically yield the subsystem the operator function is bound to). \n",
    "\n",
    "These two choices can be mixed and matched. \n",
    "\n",
    "Note:\n",
    "\n",
    "* Interactions based on only one operator are enabled (simply drop the `op2` entry). One use case of this is to create a higher order non-linearity $a^\\dagger a^\\dagger a^\\dagger a a a$ in a Kerr oscillator.\n",
    "* Interactions with more than two operators are built by specifying `op3`, `op4`, etc.\n",
    "\n",
    "The option `add_hc = True` adds the hermitian conjugate to the Hamiltonian, and is available in the present operator-product based interface, as well as in the one described next as option 2.\n",
    "\n",
    "\n",
    "### Option 2: string- based interface\n",
    "\n",
    "The `add_interaction` method can also be used to define the interaction in string form, providing an expression that can be evaluated by the Python interpreter (after operator name substitution)."
   ]
  },
  {
   "cell_type": "code",
   "execution_count": 6,
   "metadata": {
    "pycharm": {
     "name": "#%%\n"
    }
   },
   "outputs": [],
   "source": [
    "hilbertspace_example = scq.HilbertSpace([tmon1, tmon2, resonator])\n",
    "\n",
    "g3 = 0.1\n",
    "\n",
    "hilbertspace_example.add_interaction(\n",
    "    expr=\"g3 * cos(n) * adag\",\n",
    "    op1=(\"n\", tmon1.n_operator),\n",
    "    op2=(\"adag\", resonator.creation_operator),\n",
    "    add_hc=True\n",
    ")"
   ]
  },
  {
   "cell_type": "markdown",
   "metadata": {
    "pycharm": {
     "name": "#%% md\n"
    }
   },
   "source": [
    "`expr` is a string used to define the interaction as a Python expression. It should use variables that are already defined globally, and operators given by  the names provided in `op1`, `op2`, `op3`, etc. When using `expr`, each argument `op1`, `op2`, ... should be a tuple of the form<br>\n",
    "`(<operator name as string>,  <operator as callable>)` or<br>\n",
    "`(<operator name as string>,  <operator as array | sparse matrix>, <subsystem>)`.\n",
    "\n",
    "Beyond built-in Python functions and operations, acceptable functions to use in `expr` are:\n",
    "\n",
    "|  Function             |   Function translation          |\n",
    "|-----------------------|---------------------------------|\n",
    "| `'cos'`               | `'Qobj.cosm'`                   |\n",
    "| `'sin'`               | `'Qobj.sinm'`                   |\n",
    "| `'exp'`               | `'Qobj.expm'`                   |\n",
    "| `'sqrt'`              | `'Qobj.sqrtm'`                  |\n",
    "\n",
    "\n",
    "### Option 3: *Qobj* interface\n",
    "\n",
    "Finally `add_interaction` can also been used to directly add a `Qobj` object that has already been properly identity wrapped:"
   ]
  },
  {
   "cell_type": "code",
   "execution_count": 7,
   "metadata": {
    "pycharm": {
     "name": "#%%\n"
    }
   },
   "outputs": [],
   "source": [
    "# Generate a Qobj\n",
    "g = 0.1\n",
    "a = qt.destroy(4)\n",
    "kerr = a.dag() * a.dag() * a * a\n",
    "id = qt.qeye(4)\n",
    "V = g * qt.tensor(id, id, kerr)\n",
    "\n",
    "hilbertspace_example.add_interaction(qobj = V)"
   ]
  },
  {
   "cell_type": "markdown",
   "metadata": {
    "pycharm": {
     "name": "#%% md\n"
    }
   },
   "source": [
    "In this case, the `add_interaction` method only requires the argument `qobj` which must be an object of the type `Qobj`. \n",
    "\n",
    "\n",
    ".. note:\n",
    "    By default, `add_interaction` will perform a validity check that internally constructs the interaction Hamiltonian. For a large Hilbert space, this check itself may require noticable runtime. Validity checking can be disabled by adding the keyword argument `check_validity=False`."
   ]
  },
  {
   "cell_type": "markdown",
   "metadata": {
    "pycharm": {
     "name": "#%% md\n"
    }
   },
   "source": [
    "## Obtaining the Hamiltonian\n",
    "\n",
    "With the interactions specified, the full Hamiltonian of the coupled system can be obtained via the method `.hamiltonian()`. This conveniently results in a `qubit.Qobj` operator:"
   ]
  },
  {
   "cell_type": "code",
   "execution_count": 8,
   "metadata": {
    "ExecuteTime": {
     "end_time": "2016-08-23T15:16:26.919100",
     "start_time": "2016-08-23T15:16:26.907082"
    },
    "pycharm": {
     "is_executing": false,
     "name": "#%%\n"
    }
   },
   "outputs": [
    {
     "data": {
      "text/latex": [
       "Quantum object: dims=[[4, 4, 4], [4, 4, 4]], shape=(64, 64), type='oper', dtype=Dense, isherm=True$$\\left(\\begin{array}{cc}-48.968 & 0.030 & 0 & 0 & 0 & \\cdots & 0 & 0 & 0 & 0 & 0\\\\0.030 & -44.468 & 0.042 & 0 & 0.261 & \\cdots & 0 & 0 & 0 & 0 & 0\\\\0 & 0.042 & -39.968 & 0.052 & 0 & \\cdots & 0 & 0 & 0 & 0 & 0\\\\0 & 0 & 0.052 & -35.468 & 0 & \\cdots & 0 & 0 & 0 & 0 & 0\\\\0 & 0.261 & 0 & 0 & -44.881 & \\cdots & 0 & 0 & 0 & 0 & 0\\\\\\vdots & \\vdots & \\vdots & \\vdots & \\vdots & \\ddots & \\vdots & \\vdots & \\vdots & \\vdots & \\vdots\\\\0 & 0 & 0 & 0 & 0 & \\cdots & -4.723 & 0 & 0 & -0.749 & 0\\\\0 & 0 & 0 & 0 & 0 & \\cdots & 0 & -14.477 & 0.030 & 0 & 0\\\\0 & 0 & 0 & 0 & 0 & \\cdots & 0 & 0.030 & -9.977 & 0.042 & 0\\\\0 & 0 & 0 & 0 & 0 & \\cdots & -0.749 & 0 & 0.042 & -5.477 & 0.052\\\\0 & 0 & 0 & 0 & 0 & \\cdots & 0 & 0 & 0 & 0.052 & -0.977\\end{array}\\right)$$"
      ],
      "text/plain": [
       "Quantum object: dims=[[4, 4, 4], [4, 4, 4]], shape=(64, 64), type='oper', dtype=Dense, isherm=True\n",
       "Qobj data =\n",
       "[[-4.89675306e+01  3.00000000e-02  0.00000000e+00 ...  0.00000000e+00\n",
       "   0.00000000e+00  0.00000000e+00]\n",
       " [ 3.00000000e-02 -4.44675306e+01  4.24264069e-02 ...  0.00000000e+00\n",
       "   0.00000000e+00  0.00000000e+00]\n",
       " [ 0.00000000e+00  4.24264069e-02 -3.99675306e+01 ...  0.00000000e+00\n",
       "   0.00000000e+00  0.00000000e+00]\n",
       " ...\n",
       " [ 0.00000000e+00  0.00000000e+00  0.00000000e+00 ... -9.97661845e+00\n",
       "   4.24264070e-02  0.00000000e+00]\n",
       " [ 0.00000000e+00  0.00000000e+00  0.00000000e+00 ...  4.24264070e-02\n",
       "  -5.47661845e+00  5.19615243e-02]\n",
       " [ 0.00000000e+00  0.00000000e+00  0.00000000e+00 ...  0.00000000e+00\n",
       "   5.19615243e-02 -9.76618450e-01]]"
      ]
     },
     "execution_count": 8,
     "metadata": {},
     "output_type": "execute_result"
    }
   ],
   "source": [
    "dressed_hamiltonian = hilbertspace.hamiltonian()\n",
    "dressed_hamiltonian"
   ]
  },
  {
   "cell_type": "markdown",
   "metadata": {
    "pycharm": {
     "name": "#%% md\n"
    }
   },
   "source": [
    "This matrix is the representation of the Hamiltonian in the bare product basis.\n",
    "\n",
    "The non-interacting (\"bare\") Hamiltonian and the interaction Hamiltonian can be accessed similarly by using the methods `.bare_hamiltonian()` and `.interaction_hamiltonian()`."
   ]
  },
  {
   "cell_type": "markdown",
   "metadata": {
    "pycharm": {
     "name": "#%% md\n"
    }
   },
   "source": [
    "### Obtaining the eigenspectrum via QuTiP\n",
    "\n",
    "Since the Hamiltonian obtained this way is a proper `qutip.qobj`, all QuTiP routines are now available. In the first case, we are still making use of the scqubit `HilbertSpace.eigensys()` method. In the second, case, we use QuTiP's method `.eigenenergies()`:"
   ]
  },
  {
   "cell_type": "code",
   "execution_count": 9,
   "metadata": {
    "ExecuteTime": {
     "end_time": "2016-08-23T15:16:27.983649",
     "start_time": "2016-08-23T15:16:27.864493"
    },
    "pycharm": {
     "is_executing": false,
     "name": "#%%\n"
    }
   },
   "outputs": [
    {
     "name": "stdout",
     "output_type": "stream",
     "text": [
      "[-48.97770317 -45.02707241 -44.36656205 -41.18438832]\n"
     ]
    }
   ],
   "source": [
    "evals, evecs = hilbertspace.eigensys(evals_count=4)\n",
    "print(evals)"
   ]
  },
  {
   "cell_type": "code",
   "execution_count": 10,
   "metadata": {
    "pycharm": {
     "name": "#%%\n"
    }
   },
   "outputs": [
    {
     "data": {
      "text/plain": [
       "array([-48.97770317, -45.02707241, -44.36656205, -41.18438832,\n",
       "       -41.1776098 , -40.46448065, -39.76202396, -37.45533167,\n",
       "       -37.22705488, -36.65156212, -36.56694139, -35.88617024,\n",
       "       -35.14255357, -33.58960343, -33.38439485, -33.12061816,\n",
       "       -32.66494366, -32.04065582, -31.96284558, -30.93536847,\n",
       "       -29.65538466, -29.63912664, -28.97946785, -28.85287223,\n",
       "       -28.64748897, -28.09427075, -27.35745603, -26.97461415,\n",
       "       -26.21586637, -25.79648462, -25.3216198 , -25.07747135,\n",
       "       -24.37567532, -24.24760531, -23.66618527, -23.15199748,\n",
       "       -22.2580349 , -22.06752989, -21.57303944, -21.26626732,\n",
       "       -20.85288717, -20.51511596, -19.78521899, -19.1938092 ,\n",
       "       -18.41228666, -17.73463904, -17.66080329, -16.93618597,\n",
       "       -16.66699841, -15.89010361, -15.58181323, -14.68288545,\n",
       "       -13.84725844, -13.27037775, -13.08388811, -12.34366698,\n",
       "       -11.62655644, -10.308913  ,  -9.23168892,  -8.32791939,\n",
       "        -8.13883089,  -5.82301882,  -4.18180351,  -0.88957289])"
      ]
     },
     "execution_count": 10,
     "metadata": {},
     "output_type": "execute_result"
    }
   ],
   "source": [
    "dressed_hamiltonian = hilbertspace.hamiltonian()\n",
    "dressed_hamiltonian.eigenenergies()"
   ]
  },
  {
   "cell_type": "markdown",
   "metadata": {
    "pycharm": {
     "name": "#%% md\n"
    }
   },
   "source": [
    "## Spectrum lookup: converting between bare and dressed indices\n",
    "\n",
    "We can refer to eigenstates and eigenenergies of the interacting quantum systems in two ways:\n",
    "\n",
    "1. **dressed indices**: enumerating eigenenergies and -states as `j=0,1,2,...` starting from the ground state\n",
    "2. **bare product state indices**: for a Hilbert space composed of three dispersively coupled subsystems, bare product state indices are tuples of the form `(l,m,n)` where `l`, `m`, `n` denote the excitation number in each bare subsystem. When the coupling is not dispersive, the bare indices' exact meaning depends on the way we label the eigenstates introduced in the following section. \n",
    "\n",
    "### Generating the lookup table\n",
    "To use lookup functions converting back and forth between these indexing schemes, first generate the spectrum lookup table via:"
   ]
  },
  {
   "cell_type": "code",
   "execution_count": 11,
   "metadata": {
    "pycharm": {
     "name": "#%%\n"
    }
   },
   "outputs": [],
   "source": [
    "hilbertspace.generate_lookup()"
   ]
  },
  {
   "cell_type": "markdown",
   "metadata": {},
   "source": [
    "Internally, the lookup table is generated entry by entry through a particular order, and we provide the user the following three ordering schemes:\n",
    "\n",
    "1. **Ordered by Dressed Energy (DE, default)**: traverse the dressed eigenstates, in ascending order of their eigenenergies. For each of the states, find the corresponding bare state with the maximum overlap. Note that once a bare label is assigned to a dressed state, it won't be assigned to another dressed state. Eigenstates that do not have a bare state with overlap exceeding `scqubits.settings.OVERLAP_THRESHOLD` are not assigned any bare label, which ensures that labeled eigenstates are sufficiently close to the corresponding bare states.\n",
    "2. **Branch analysis with lexical ordering (LX)**: traverse the bare product state labels in the [lexical order](https://en.wikipedia.org/wiki/Lexicographic_order#Cartesian_products) and perform the branch analysis introduced in [Dumas2024]. This is done as follows:\n",
    "   ```python\n",
    "   hilbertspace.generate_lookup(\n",
    "       ordering='LX',\n",
    "       subsys_priority=[0, 1]\n",
    "   )\n",
    "   ```\n",
    "   The `subsys_priority` argument is optional. It is a permutation of the subsystem indices and bare labels. If it is provided, lexical ordering is performed on the permuted labels. Besides specifying the ordering, `subsys_priority` also determines which subsystem is to be excited during the traversal. Specifically, a \"branch\" is defined as a series of eigenstates formed by putting excitations into the last subsystem in the list.\n",
    "3. **Partial branch analysis, with Bare Energy (BE) ordering**: traverse the bare states in the order of their energy without coupling and perform branch analysis. This is particularly useful when the Hilbert space is too large and only a few low-lying bare states need to be labeled (specifies by `BEs_count`). This is done as follows:\n",
    "   ```python\n",
    "   hilbertspace.generate_lookup(\n",
    "       ordering='BE',\n",
    "       subsys_priority=[0, 1],\n",
    "       BEs_count=10,\n",
    "   )\n",
    "   ```\n",
    "   The users can provide `subsys_priority` argument to determine which subsystem is to be excited during the traversal, while it no longer specifies the ordering.\n",
    "\n",
    "Note that these three schemes may not produce the same labeling and the users should choose the one that best suits their needs."
   ]
  },
  {
   "cell_type": "markdown",
   "metadata": {
    "pycharm": {
     "name": "#%% md\n"
    }
   },
   "source": [
    "### Lookup functions\n",
    "\n",
    "This makes lookup functions available via `hilbertspace.lookup.<lookup method>` where\n",
    "\n",
    "\n",
    "+-----------------------+---------------------------------------------------------------------------+\n",
    "|  lookup method        | purpose                                                                   |\n",
    "+=======================+===========================================================================+\n",
    "| `bare_index`          | yields bare product state index for given dressed index                   |\n",
    "+-----------------------+---------------------------------------------------------------------------+\n",
    "| `dressed_index`       | yields dressed index for given bare product state index                   |\n",
    "+-----------------------+---------------------------------------------------------------------------+\n",
    "|                       |                                                                           |\n",
    "+-----------------------+---------------------------------------------------------------------------+\n",
    "| `energy_dressed_index`| return eigenenergy for given dressed index                                |\n",
    "+-----------------------+---------------------------------------------------------------------------+\n",
    "| `energy_bare_index`   | return eigenenergy for given bare product-state index                     |\n",
    "+-----------------------+---------------------------------------------------------------------------+\n",
    "|                       |                                                                           |\n",
    "+-----------------------+---------------------------------------------------------------------------+\n",
    "| `bare_eigenenergies`  | return bare eigenenergies for specified subsystem                         |\n",
    "+-----------------------+---------------------------------------------------------------------------+\n",
    "| `bare_eigenstates`    | return bare eigenstates for specified subsystem                           |\n",
    "+-----------------------+---------------------------------------------------------------------------+\n",
    "| `bare_productstate`   | return bare product state for given bare index                            |\n",
    "+-----------------------+---------------------------------------------------------------------------+\n"
   ]
  },
  {
   "cell_type": "markdown",
   "metadata": {
    "pycharm": {
     "name": "#%% md\n"
    }
   },
   "source": [
    "Here are the bare energies of the first Cooper pair box system:"
   ]
  },
  {
   "cell_type": "code",
   "execution_count": 13,
   "metadata": {
    "pycharm": {
     "name": "#%%\n"
    }
   },
   "outputs": [
    {
     "data": {
      "text/plain": [
       "NamedSlotsNdarray([[-36.05064983, -28.25601136, -20.67410141,\n",
       "                    -13.31487799]])"
      ]
     },
     "execution_count": 13,
     "metadata": {},
     "output_type": "execute_result"
    }
   ],
   "source": [
    "tmon1_idx = hilbertspace.get_subsys_index(tmon1)\n",
    "hilbertspace[\"bare_evals\"][tmon1_idx]"
   ]
  },
  {
   "cell_type": "markdown",
   "metadata": {
    "pycharm": {
     "name": "#%% md\n"
    }
   },
   "source": [
    "The dressed state with index j=8 corresponds to following bare product state index:"
   ]
  },
  {
   "cell_type": "code",
   "execution_count": 14,
   "metadata": {
    "pycharm": {
     "name": "#%%\n"
    }
   },
   "outputs": [
    {
     "data": {
      "text/plain": [
       "(1, 1, 0)"
      ]
     },
     "execution_count": 14,
     "metadata": {},
     "output_type": "execute_result"
    }
   ],
   "source": [
    "hilbertspace.bare_index(8)"
   ]
  },
  {
   "cell_type": "markdown",
   "metadata": {
    "pycharm": {
     "name": "#%% md\n"
    }
   },
   "source": [
    ".. note:\n",
    "    In cases of strong hybridization between bare product states, this conversion can fail in which case it returns `None`. Conversion between the two different index types is based on maximum overlap between bare and dressed states.\n",
    "\n",
    "The bare product state (2,1,0) most closely matches the following dressed state:"
   ]
  },
  {
   "cell_type": "code",
   "execution_count": 15,
   "metadata": {
    "pycharm": {
     "name": "#%%\n"
    }
   },
   "outputs": [
    {
     "data": {
      "text/plain": [
       "21"
      ]
     },
     "execution_count": 15,
     "metadata": {},
     "output_type": "execute_result"
    }
   ],
   "source": [
    "hilbertspace.dressed_index((2, 1, 0))"
   ]
  },
  {
   "cell_type": "markdown",
   "metadata": {
    "pycharm": {
     "name": "#%% md\n"
    }
   },
   "source": [
    "This is the eigenenergy for dressed index j=10:"
   ]
  },
  {
   "cell_type": "code",
   "execution_count": 16,
   "metadata": {
    "pycharm": {
     "name": "#%%\n"
    }
   },
   "outputs": [
    {
     "data": {
      "text/plain": [
       "-36.56694138527016"
      ]
     },
     "execution_count": 16,
     "metadata": {},
     "output_type": "execute_result"
    }
   ],
   "source": [
    "hilbertspace.energy_by_dressed_index(10)"
   ]
  },
  {
   "cell_type": "markdown",
   "metadata": {},
   "source": [
    "### Analyzing an eigenstate\n",
    "For an eigenstate, one might be interested in the bare product state components and their associated occupation probabilities. This can be achieved with the method `dressed_state_component` given either a dressed index or a bare product state index:"
   ]
  },
  {
   "cell_type": "code",
   "execution_count": 17,
   "metadata": {},
   "outputs": [
    {
     "data": {
      "text/plain": [
       "{(0, 2, 0): 0.744284700057613,\n",
       " (0, 1, 1): 0.22862288914880474,\n",
       " (0, 0, 2): 0.022837776796681062,\n",
       " (0, 3, 1): 0.002157700463871854}"
      ]
     },
     "execution_count": 17,
     "metadata": {},
     "output_type": "execute_result"
    }
   ],
   "source": [
    "hilbertspace.dressed_state_components(\n",
    "    state_label=(0, 2, 0),\n",
    "    components_count=4,\n",
    ")"
   ]
  },
  {
   "cell_type": "markdown",
   "metadata": {
    "pycharm": {
     "name": "#%% md\n"
    }
   },
   "source": [
    "## Helper function:  identity wrapping\n",
    "\n",
    "The abbreviated notation commonplace in physics usually omits tensor products with identities. As an example, in a composite Hilbert space consisting of three subsystems $j=1,2,3$ with individual Hamiltonians $H_j$, we typically use the notation\n",
    "\n",
    "$H=H_1+H_2+H_3$\n",
    "\n",
    "which is meant to stand for\n",
    "\n",
    "$H = H_1\\otimes\\mathbb{I}\\otimes \\mathbb{I} + \\mathbb{I}\\otimes H_2\\otimes \\mathbb{I} + \\mathbb{I}\\otimes\\mathbb{I}\\otimes H_3$\n",
    "\n",
    "In most places of the `HilbertSpace` class, scqubits manages this \"identity wrapping\" automatically. In some use cases, it may become necessary to invoke this functionality manually. For that purpose, scqubits implements the helper routine `identity_wrap`. For instance, the term $\\mathbb{I}\\otimes H_2\\otimes \\mathbb{I}$ would be generated via the pseudocode `scq.identity_wrap(H2, subsystem2, [subsystem1, subsystem2, subsystem3])`.\n",
    "\n",
    "In the context of the above example of two transmons coupled to an oscillator, the identity-wrapped charge operator of the second transmon is generated via"
   ]
  },
  {
   "cell_type": "code",
   "execution_count": 18,
   "metadata": {
    "pycharm": {
     "name": "#%%\n"
    },
    "scrolled": false
   },
   "outputs": [
    {
     "data": {
      "text/latex": [
       "Quantum object: dims=[[4, 4, 4], [4, 4, 4]], shape=(64, 64), type='oper', dtype=Dense, isherm=True$$\\left(\\begin{array}{cc}5.415\\times10^{ -17 } & 0 & 0 & 0 & 1.305 & \\cdots & 0 & 0 & 0 & 0 & 0\\\\0 & 5.415\\times10^{ -17 } & 0 & 0 & 0 & \\cdots & 0 & 0 & 0 & 0 & 0\\\\0 & 0 & 5.415\\times10^{ -17 } & 0 & 0 & \\cdots & 0 & 0 & 0 & 0 & 0\\\\0 & 0 & 0 & 5.415\\times10^{ -17 } & 0 & \\cdots & 0 & 0 & 0 & 0 & 0\\\\1.305 & 0 & 0 & 0 & 1.030\\times10^{ -16 } & \\cdots & 0 & 0 & 0 & 0 & 0\\\\\\vdots & \\vdots & \\vdots & \\vdots & \\vdots & \\ddots & \\vdots & \\vdots & \\vdots & \\vdots & \\vdots\\\\0 & 0 & 0 & 0 & 0 & \\cdots & -3.237\\times10^{ -16 } & 0 & 0 & 0 & -2.162\\\\0 & 0 & 0 & 0 & 0 & \\cdots & 0 & 2.124\\times10^{ -16 } & 0 & 0 & 0\\\\0 & 0 & 0 & 0 & 0 & \\cdots & 0 & 0 & 2.124\\times10^{ -16 } & 0 & 0\\\\0 & 0 & 0 & 0 & 0 & \\cdots & 0 & 0 & 0 & 2.124\\times10^{ -16 } & 0\\\\0 & 0 & 0 & 0 & 0 & \\cdots & -2.162 & 0 & 0 & 0 & 2.124\\times10^{ -16 }\\end{array}\\right)$$"
      ],
      "text/plain": [
       "Quantum object: dims=[[4, 4, 4], [4, 4, 4]], shape=(64, 64), type='oper', dtype=Dense, isherm=True\n",
       "Qobj data =\n",
       "[[ 5.41547702e-17  0.00000000e+00  0.00000000e+00 ... -0.00000000e+00\n",
       "  -0.00000000e+00 -0.00000000e+00]\n",
       " [ 0.00000000e+00  5.41547702e-17  0.00000000e+00 ... -0.00000000e+00\n",
       "  -0.00000000e+00 -0.00000000e+00]\n",
       " [ 0.00000000e+00  0.00000000e+00  5.41547702e-17 ... -0.00000000e+00\n",
       "  -0.00000000e+00 -0.00000000e+00]\n",
       " ...\n",
       " [-0.00000000e+00 -0.00000000e+00 -0.00000000e+00 ...  2.12388392e-16\n",
       "   0.00000000e+00  0.00000000e+00]\n",
       " [-0.00000000e+00 -0.00000000e+00 -0.00000000e+00 ...  0.00000000e+00\n",
       "   2.12388392e-16  0.00000000e+00]\n",
       " [-0.00000000e+00 -0.00000000e+00 -0.00000000e+00 ...  0.00000000e+00\n",
       "   0.00000000e+00  2.12388392e-16]]"
      ]
     },
     "execution_count": 18,
     "metadata": {},
     "output_type": "execute_result"
    }
   ],
   "source": [
    "scq.identity_wrap(tmon2.n_operator(), tmon2, hilbertspace.subsystem_list)"
   ]
  },
  {
   "cell_type": "markdown",
   "metadata": {
    "pycharm": {
     "name": "#%% md\n"
    }
   },
   "source": [
    "\n",
    "\n",
    "\n",
    "The complete interface is:\n",
    "\n",
    "```scq.identity_wrap(operator, subsystem, subsys_list, op_in_eigenbasis=False, evecs=None)```\n",
    "\n",
    "Wrap given operator in subspace subsystem in identity operators to form full Hilbert-space operator.\n",
    "\n",
    "**Parameters**\n",
    "\n",
    "- *operator*: operator acting in Hilbert space of subsystem; if str, then this should be an operator name in the subsystem, typically not in eigenbasis\n",
    "\n",
    "- *subsystem (QuantumSys)*: subsystem to which *operator* belongs\n",
    "\n",
    "- *subsys_list*: list of all subsystems (in fixed order!)\n",
    "\n",
    "- *op_in_eigenbasis* (bool, optional): whether operator is given in the subsystem eigenbasis; otherwise, the internal QuantumSys basis is assumed\n",
    "\n",
    "- *evecs* (ndarray, optional): internal QuantumSys eigenstates, used to convert operator into eigenbasis\n",
    "\n",
    "**Return type**: Qobj\n",
    "\n"
   ]
  },
  {
   "cell_type": "markdown",
   "metadata": {
    "pycharm": {
     "name": "#%%\n"
    }
   },
   "source": [
    "## Helper function:  subsystem operator in dressed basis\n",
    "\n",
    "Oftentimes for qutip simulations, the most natural basis to use is the dressed basis of the full system. This way, any transitions between basis states are the result of additional (usually time-dependent) drives. These drives are often given in terms of an operator of one of the subsystems. We would like to transform that operator into the dressed basis. This requires two transformations: the first is from the \"native\" basis of the subsystem (for instance the charge basis for the transmon) into its bare eigenbasis, which is the basis used in `HilbertSpace`. The second is from the bare eigenbasis into the dressed eigenbasis. \n",
    "\n",
    "For instance, the charge operator of the first transmon system may be expressed in the dressed eigenbasis as"
   ]
  },
  {
   "cell_type": "code",
   "execution_count": 12,
   "metadata": {},
   "outputs": [
    {
     "data": {
      "text/latex": [
       "Quantum object: dims=[[64], [64]], shape=(64, 64), type='oper', dtype=CSR, isherm=True$$\\left(\\begin{array}{cc}0.301 & -0.039 & -0.085 & -8.168\\times10^{ -6 } & 1.558 & \\cdots & -1.122\\times10^{ -10 } & 1.605\\times10^{ -10 } & -9.217\\times10^{ -11 } & -7.380\\times10^{ -11 } & -1.485\\times10^{ -10 }\\\\-0.039 & 0.301 & -9.554\\times10^{ -8 } & 0.047 & 2.549\\times10^{ -7 } & \\cdots & 1.951\\times10^{ -8 } & 8.473\\times10^{ -9 } & 1.147\\times10^{ -8 } & 1.311\\times10^{ -8 } & 2.163\\times10^{ -10 }\\\\-0.085 & -9.554\\times10^{ -8 } & 0.301 & -0.002 & 1.847\\times10^{ -8 } & \\cdots & 2.048\\times10^{ -8 } & 2.181\\times10^{ -8 } & 2.198\\times10^{ -8 } & 2.874\\times10^{ -8 } & 2.137\\times10^{ -11 }\\\\-8.168\\times10^{ -6 } & 0.047 & -0.002 & 0.301 & 3.679\\times10^{ -7 } & \\cdots & 6.351\\times10^{ -8 } & 2.604\\times10^{ -6 } & 2.402\\times10^{ -8 } & 1.360\\times10^{ -8 } & 2.820\\times10^{ -8 }\\\\1.558 & 2.549\\times10^{ -7 } & 1.847\\times10^{ -8 } & 3.679\\times10^{ -7 } & 0.301 & \\cdots & -1.520\\times10^{ -10 } & -5.187\\times10^{ -9 } & -5.495\\times10^{ -9 } & -9.614\\times10^{ -9 } & -7.208\\times10^{ -11 }\\\\\\vdots & \\vdots & \\vdots & \\vdots & \\vdots & \\ddots & \\vdots & \\vdots & \\vdots & \\vdots & \\vdots\\\\-1.122\\times10^{ -10 } & 1.951\\times10^{ -8 } & 2.048\\times10^{ -8 } & 6.351\\times10^{ -8 } & -1.520\\times10^{ -10 } & \\cdots & 0.298 & 0.006 & -7.660\\times10^{ -5 } & 0.002 & -2.577\\\\1.605\\times10^{ -10 } & 8.473\\times10^{ -9 } & 2.181\\times10^{ -8 } & 2.604\\times10^{ -6 } & -5.187\\times10^{ -9 } & \\cdots & 0.006 & 0.302 & 0.083 & 0.277 & 0.021\\\\-9.217\\times10^{ -11 } & 1.147\\times10^{ -8 } & 2.198\\times10^{ -8 } & 2.402\\times10^{ -8 } & -5.495\\times10^{ -9 } & \\cdots & -7.660\\times10^{ -5 } & 0.083 & 0.302 & 0.006 & -0.461\\\\-7.380\\times10^{ -11 } & 1.311\\times10^{ -8 } & 2.874\\times10^{ -8 } & 1.360\\times10^{ -8 } & -9.614\\times10^{ -9 } & \\cdots & 0.002 & 0.277 & 0.006 & 0.303 & 0.248\\\\-1.485\\times10^{ -10 } & 2.163\\times10^{ -10 } & 2.137\\times10^{ -11 } & 2.820\\times10^{ -8 } & -7.208\\times10^{ -11 } & \\cdots & -2.577 & 0.021 & -0.461 & 0.248 & 0.308\\end{array}\\right)$$"
      ],
      "text/plain": [
       "Quantum object: dims=[[64], [64]], shape=(64, 64), type='oper', dtype=CSR, isherm=True\n",
       "Qobj data =\n",
       "[[ 3.00848255e-01 -3.94988892e-02 -8.51789422e-02 ... -9.21708160e-11\n",
       "  -7.38031164e-11 -1.48511884e-10]\n",
       " [-3.94988892e-02  3.00848175e-01 -9.55399394e-08 ...  1.14676356e-08\n",
       "   1.31056969e-08  2.16269945e-10]\n",
       " [-8.51789422e-02 -9.55399394e-08  3.00848062e-01 ...  2.19795958e-08\n",
       "   2.87402596e-08  2.13692463e-11]\n",
       " ...\n",
       " [-9.21708160e-11  1.14676356e-08  2.19795958e-08 ...  3.01845306e-01\n",
       "   6.18505106e-03 -4.60901874e-01]\n",
       " [-7.38031164e-11  1.31056969e-08  2.87402596e-08 ...  6.18505106e-03\n",
       "   3.02528544e-01  2.48191443e-01]\n",
       " [-1.48511884e-10  2.16269945e-10  2.13692463e-11 ... -4.60901874e-01\n",
       "   2.48191443e-01  3.08183200e-01]]"
      ]
     },
     "execution_count": 12,
     "metadata": {},
     "output_type": "execute_result"
    }
   ],
   "source": [
    "hilbertspace.op_in_dressed_eigenbasis(tmon1.n_operator)"
   ]
  },
  {
   "cell_type": "markdown",
   "metadata": {},
   "source": [
    "Alternatively, the function may be called by supplying both a pair `(<operator as ndarray>,  <subsys>)`, as well as information on if the subsystem operator is already expressed in the bare eigenbasis. Examples of both cases (subsystem operator expressed in the native and bare eigenbasis) follow:"
   ]
  },
  {
   "cell_type": "code",
   "execution_count": 13,
   "metadata": {},
   "outputs": [
    {
     "data": {
      "text/latex": [
       "Quantum object: dims=[[64], [64]], shape=(64, 64), type='oper', dtype=CSR, isherm=True$$\\left(\\begin{array}{cc}0.301 & -0.039 & -0.085 & -8.168\\times10^{ -6 } & 1.558 & \\cdots & -1.122\\times10^{ -10 } & 1.605\\times10^{ -10 } & -9.217\\times10^{ -11 } & -7.380\\times10^{ -11 } & -1.485\\times10^{ -10 }\\\\-0.039 & 0.301 & -9.554\\times10^{ -8 } & 0.047 & 2.549\\times10^{ -7 } & \\cdots & 1.951\\times10^{ -8 } & 8.473\\times10^{ -9 } & 1.147\\times10^{ -8 } & 1.311\\times10^{ -8 } & 2.163\\times10^{ -10 }\\\\-0.085 & -9.554\\times10^{ -8 } & 0.301 & -0.002 & 1.847\\times10^{ -8 } & \\cdots & 2.048\\times10^{ -8 } & 2.181\\times10^{ -8 } & 2.198\\times10^{ -8 } & 2.874\\times10^{ -8 } & 2.137\\times10^{ -11 }\\\\-8.168\\times10^{ -6 } & 0.047 & -0.002 & 0.301 & 3.679\\times10^{ -7 } & \\cdots & 6.351\\times10^{ -8 } & 2.604\\times10^{ -6 } & 2.402\\times10^{ -8 } & 1.360\\times10^{ -8 } & 2.820\\times10^{ -8 }\\\\1.558 & 2.549\\times10^{ -7 } & 1.847\\times10^{ -8 } & 3.679\\times10^{ -7 } & 0.301 & \\cdots & -1.520\\times10^{ -10 } & -5.187\\times10^{ -9 } & -5.495\\times10^{ -9 } & -9.614\\times10^{ -9 } & -7.208\\times10^{ -11 }\\\\\\vdots & \\vdots & \\vdots & \\vdots & \\vdots & \\ddots & \\vdots & \\vdots & \\vdots & \\vdots & \\vdots\\\\-1.122\\times10^{ -10 } & 1.951\\times10^{ -8 } & 2.048\\times10^{ -8 } & 6.351\\times10^{ -8 } & -1.520\\times10^{ -10 } & \\cdots & 0.298 & 0.006 & -7.660\\times10^{ -5 } & 0.002 & -2.577\\\\1.605\\times10^{ -10 } & 8.473\\times10^{ -9 } & 2.181\\times10^{ -8 } & 2.604\\times10^{ -6 } & -5.187\\times10^{ -9 } & \\cdots & 0.006 & 0.302 & 0.083 & 0.277 & 0.021\\\\-9.217\\times10^{ -11 } & 1.147\\times10^{ -8 } & 2.198\\times10^{ -8 } & 2.402\\times10^{ -8 } & -5.495\\times10^{ -9 } & \\cdots & -7.660\\times10^{ -5 } & 0.083 & 0.302 & 0.006 & -0.461\\\\-7.380\\times10^{ -11 } & 1.311\\times10^{ -8 } & 2.874\\times10^{ -8 } & 1.360\\times10^{ -8 } & -9.614\\times10^{ -9 } & \\cdots & 0.002 & 0.277 & 0.006 & 0.303 & 0.248\\\\-1.485\\times10^{ -10 } & 2.163\\times10^{ -10 } & 2.137\\times10^{ -11 } & 2.820\\times10^{ -8 } & -7.208\\times10^{ -11 } & \\cdots & -2.577 & 0.021 & -0.461 & 0.248 & 0.308\\end{array}\\right)$$"
      ],
      "text/plain": [
       "Quantum object: dims=[[64], [64]], shape=(64, 64), type='oper', dtype=CSR, isherm=True\n",
       "Qobj data =\n",
       "[[ 3.00848255e-01 -3.94988892e-02 -8.51789422e-02 ... -9.21708160e-11\n",
       "  -7.38031164e-11 -1.48511884e-10]\n",
       " [-3.94988892e-02  3.00848175e-01 -9.55399394e-08 ...  1.14676356e-08\n",
       "   1.31056969e-08  2.16269945e-10]\n",
       " [-8.51789422e-02 -9.55399394e-08  3.00848062e-01 ...  2.19795958e-08\n",
       "   2.87402596e-08  2.13692463e-11]\n",
       " ...\n",
       " [-9.21708160e-11  1.14676356e-08  2.19795958e-08 ...  3.01845306e-01\n",
       "   6.18505106e-03 -4.60901874e-01]\n",
       " [-7.38031164e-11  1.31056969e-08  2.87402596e-08 ...  6.18505106e-03\n",
       "   3.02528544e-01  2.48191443e-01]\n",
       " [-1.48511884e-10  2.16269945e-10  2.13692463e-11 ... -4.60901874e-01\n",
       "   2.48191443e-01  3.08183200e-01]]"
      ]
     },
     "execution_count": 13,
     "metadata": {},
     "output_type": "execute_result"
    }
   ],
   "source": [
    "hilbertspace.op_in_dressed_eigenbasis((tmon1.n_operator(), tmon1), op_in_bare_eigenbasis=False)"
   ]
  },
  {
   "cell_type": "code",
   "execution_count": 14,
   "metadata": {},
   "outputs": [
    {
     "data": {
      "text/latex": [
       "Quantum object: dims=[[64], [64]], shape=(64, 64), type='oper', dtype=CSR, isherm=True$$\\left(\\begin{array}{cc}0.301 & -0.039 & -0.085 & -8.168\\times10^{ -6 } & 1.558 & \\cdots & -1.122\\times10^{ -10 } & 1.605\\times10^{ -10 } & -9.217\\times10^{ -11 } & -7.380\\times10^{ -11 } & -1.485\\times10^{ -10 }\\\\-0.039 & 0.301 & -9.554\\times10^{ -8 } & 0.047 & 2.549\\times10^{ -7 } & \\cdots & 1.951\\times10^{ -8 } & 8.473\\times10^{ -9 } & 1.147\\times10^{ -8 } & 1.311\\times10^{ -8 } & 2.163\\times10^{ -10 }\\\\-0.085 & -9.554\\times10^{ -8 } & 0.301 & -0.002 & 1.847\\times10^{ -8 } & \\cdots & 2.048\\times10^{ -8 } & 2.181\\times10^{ -8 } & 2.198\\times10^{ -8 } & 2.874\\times10^{ -8 } & 2.137\\times10^{ -11 }\\\\-8.168\\times10^{ -6 } & 0.047 & -0.002 & 0.301 & 3.679\\times10^{ -7 } & \\cdots & 6.351\\times10^{ -8 } & 2.604\\times10^{ -6 } & 2.402\\times10^{ -8 } & 1.360\\times10^{ -8 } & 2.820\\times10^{ -8 }\\\\1.558 & 2.549\\times10^{ -7 } & 1.847\\times10^{ -8 } & 3.679\\times10^{ -7 } & 0.301 & \\cdots & -1.520\\times10^{ -10 } & -5.187\\times10^{ -9 } & -5.495\\times10^{ -9 } & -9.614\\times10^{ -9 } & -7.208\\times10^{ -11 }\\\\\\vdots & \\vdots & \\vdots & \\vdots & \\vdots & \\ddots & \\vdots & \\vdots & \\vdots & \\vdots & \\vdots\\\\-1.122\\times10^{ -10 } & 1.951\\times10^{ -8 } & 2.048\\times10^{ -8 } & 6.351\\times10^{ -8 } & -1.520\\times10^{ -10 } & \\cdots & 0.298 & 0.006 & -7.660\\times10^{ -5 } & 0.002 & -2.577\\\\1.605\\times10^{ -10 } & 8.473\\times10^{ -9 } & 2.181\\times10^{ -8 } & 2.604\\times10^{ -6 } & -5.187\\times10^{ -9 } & \\cdots & 0.006 & 0.302 & 0.083 & 0.277 & 0.021\\\\-9.217\\times10^{ -11 } & 1.147\\times10^{ -8 } & 2.198\\times10^{ -8 } & 2.402\\times10^{ -8 } & -5.495\\times10^{ -9 } & \\cdots & -7.660\\times10^{ -5 } & 0.083 & 0.302 & 0.006 & -0.461\\\\-7.380\\times10^{ -11 } & 1.311\\times10^{ -8 } & 2.874\\times10^{ -8 } & 1.360\\times10^{ -8 } & -9.614\\times10^{ -9 } & \\cdots & 0.002 & 0.277 & 0.006 & 0.303 & 0.248\\\\-1.485\\times10^{ -10 } & 2.163\\times10^{ -10 } & 2.137\\times10^{ -11 } & 2.820\\times10^{ -8 } & -7.208\\times10^{ -11 } & \\cdots & -2.577 & 0.021 & -0.461 & 0.248 & 0.308\\end{array}\\right)$$"
      ],
      "text/plain": [
       "Quantum object: dims=[[64], [64]], shape=(64, 64), type='oper', dtype=CSR, isherm=True\n",
       "Qobj data =\n",
       "[[ 3.00848255e-01 -3.94988892e-02 -8.51789422e-02 ... -9.21708160e-11\n",
       "  -7.38031164e-11 -1.48511884e-10]\n",
       " [-3.94988892e-02  3.00848175e-01 -9.55399394e-08 ...  1.14676356e-08\n",
       "   1.31056969e-08  2.16269945e-10]\n",
       " [-8.51789422e-02 -9.55399394e-08  3.00848062e-01 ...  2.19795958e-08\n",
       "   2.87402596e-08  2.13692463e-11]\n",
       " ...\n",
       " [-9.21708160e-11  1.14676356e-08  2.19795958e-08 ...  3.01845306e-01\n",
       "   6.18505106e-03 -4.60901874e-01]\n",
       " [-7.38031164e-11  1.31056969e-08  2.87402596e-08 ...  6.18505106e-03\n",
       "   3.02528544e-01  2.48191443e-01]\n",
       " [-1.48511884e-10  2.16269945e-10  2.13692463e-11 ... -4.60901874e-01\n",
       "   2.48191443e-01  3.08183200e-01]]"
      ]
     },
     "execution_count": 14,
     "metadata": {},
     "output_type": "execute_result"
    }
   ],
   "source": [
    "n_1_bare_eigenbasis = tmon1.n_operator(energy_esys=True)\n",
    "hilbertspace.op_in_dressed_eigenbasis((n_1_bare_eigenbasis, tmon1), op_in_bare_eigenbasis=True)"
   ]
  },
  {
   "cell_type": "markdown",
   "metadata": {},
   "source": [
    "There are thus two interfaces for this operator: the first is \n",
    "\n",
    "```hilbertspace.op_in_dressed_eigenbasis(op=op)```\n",
    "\n",
    "**Parameters**\n",
    "\n",
    "- *op* (callable): operator acting in Hilbert space of subsystem\n",
    "\n",
    "The second interface is\n",
    "\n",
    "```hilbertspace.op_in_dressed_eigenbasis(op=(op, subsys), op_in_bare_eigenbasis=False)```\n",
    "\n",
    "**Parameters**\n",
    "\n",
    "- *op* (ndarray, QuantumSys): pair of operator as ndarray as well as the subsystem to which the operator belongs\n",
    "\n",
    "- *op_in_bare_eigenbasis* (bool, optional): whether operator is given in the subsystem eigenbasis; otherwise, the internal QuantumSys basis is assumed\n",
    "\n",
    "**Return type**: Qobj"
   ]
  },
  {
   "cell_type": "markdown",
   "metadata": {},
   "source": [
    "The phases of the matrix elements of the operator in the dressed basis will depend on the phases of the dressed eigenvectors. To standardize those phases, `scqubits` also provides a helper function `hilbertspace.standardize_eigenvector_phases()` which standardizes the phases of the precalculated dressed eigenvectors. This function takes no arguments and returns nothing. It can be called before calling `op_in_dressed_eigenbasis`:"
   ]
  },
  {
   "cell_type": "code",
   "execution_count": 24,
   "metadata": {},
   "outputs": [],
   "source": [
    "hilbertspace.standardize_eigenvector_phases()"
   ]
  }
 ],
 "metadata": {
  "celltoolbar": "Edit Metadata",
  "kernelspec": {
   "display_name": "Python 3 (ipykernel)",
   "language": "python",
   "name": "python3"
  },
  "language_info": {
   "codemirror_mode": {
    "name": "ipython",
    "version": 3
   },
   "file_extension": ".py",
   "mimetype": "text/x-python",
   "name": "python",
   "nbconvert_exporter": "python",
   "pygments_lexer": "ipython3",
   "version": "3.11.8"
  },
  "toc": {
   "base_numbering": 1,
   "nav_menu": {},
   "number_sections": false,
   "sideBar": true,
   "skip_h1_title": true,
   "title_cell": "Table of Contents",
   "title_sidebar": "Contents",
   "toc_cell": false,
   "toc_position": {},
   "toc_section_display": true,
   "toc_window_display": false
  },
  "varInspector": {
   "cols": {
    "lenName": 16,
    "lenType": 16,
    "lenVar": 40
   },
   "kernels_config": {
    "python": {
     "delete_cmd_postfix": "",
     "delete_cmd_prefix": "del ",
     "library": "var_list.py",
     "varRefreshCmd": "print(var_dic_list())"
    },
    "r": {
     "delete_cmd_postfix": ") ",
     "delete_cmd_prefix": "rm(",
     "library": "var_list.r",
     "varRefreshCmd": "cat(var_dic_list()) "
    }
   },
   "types_to_exclude": [
    "module",
    "function",
    "builtin_function_or_method",
    "instance",
    "_Feature"
   ],
   "window_display": false
  }
 },
 "nbformat": 4,
 "nbformat_minor": 2
}
